{
 "cells": [
  {
   "cell_type": "markdown",
   "metadata": {},
   "source": [
    "## Exploração Inicial\n",
    "Nessa etapa ficaremos familiarizados com os dados disponibilizados e será criado o dataset final a ser usado no projeto."
   ]
  },
  {
   "cell_type": "code",
   "execution_count": 1,
   "metadata": {},
   "outputs": [],
   "source": [
    "import pandas as pd\n",
    "import os\n",
    "from datetime import datetime\n",
    "import seaborn as sns"
   ]
  },
  {
   "cell_type": "markdown",
   "metadata": {},
   "source": [
    "### Debt - US"
   ]
  },
  {
   "cell_type": "markdown",
   "metadata": {},
   "source": [
    "O significado de cada uma das colunas desse dataset pode ser checado em: \n",
    "https://fiscaldata.treasury.gov/datasets/debt-to-the-penny/debt-to-the-penny"
   ]
  },
  {
   "cell_type": "code",
   "execution_count": 2,
   "metadata": {},
   "outputs": [],
   "source": [
    "from paths import path_debt\n",
    "us_debt_data = pd.read_csv(path_debt + r\"\\DebtPenny_19930401_20210927.csv\")"
   ]
  },
  {
   "cell_type": "code",
   "execution_count": 3,
   "metadata": {},
   "outputs": [
    {
     "data": {
      "text/html": [
       "<div>\n",
       "<style scoped>\n",
       "    .dataframe tbody tr th:only-of-type {\n",
       "        vertical-align: middle;\n",
       "    }\n",
       "\n",
       "    .dataframe tbody tr th {\n",
       "        vertical-align: top;\n",
       "    }\n",
       "\n",
       "    .dataframe thead th {\n",
       "        text-align: right;\n",
       "    }\n",
       "</style>\n",
       "<table border=\"1\" class=\"dataframe\">\n",
       "  <thead>\n",
       "    <tr style=\"text-align: right;\">\n",
       "      <th></th>\n",
       "      <th>Record Date</th>\n",
       "      <th>Debt Held by the Public</th>\n",
       "      <th>Intragovernmental Holdings</th>\n",
       "      <th>Total Public Debt Outstanding</th>\n",
       "      <th>Source Line Number</th>\n",
       "      <th>Fiscal Year</th>\n",
       "      <th>Fiscal Quarter Number</th>\n",
       "      <th>Calendar Year</th>\n",
       "      <th>Calendar Quarter Number</th>\n",
       "      <th>Calendar Month Number</th>\n",
       "      <th>Calendar Day Number</th>\n",
       "    </tr>\n",
       "  </thead>\n",
       "  <tbody>\n",
       "    <tr>\n",
       "      <th>0</th>\n",
       "      <td>2021-09-27</td>\n",
       "      <td>2.225634e+13</td>\n",
       "      <td>6.170790e+12</td>\n",
       "      <td>2.842713e+13</td>\n",
       "      <td>1</td>\n",
       "      <td>2021</td>\n",
       "      <td>4</td>\n",
       "      <td>2021</td>\n",
       "      <td>3</td>\n",
       "      <td>9</td>\n",
       "      <td>27</td>\n",
       "    </tr>\n",
       "    <tr>\n",
       "      <th>1</th>\n",
       "      <td>2021-09-24</td>\n",
       "      <td>2.225856e+13</td>\n",
       "      <td>6.168603e+12</td>\n",
       "      <td>2.842716e+13</td>\n",
       "      <td>1</td>\n",
       "      <td>2021</td>\n",
       "      <td>4</td>\n",
       "      <td>2021</td>\n",
       "      <td>3</td>\n",
       "      <td>9</td>\n",
       "      <td>24</td>\n",
       "    </tr>\n",
       "  </tbody>\n",
       "</table>\n",
       "</div>"
      ],
      "text/plain": [
       "  Record Date  Debt Held by the Public  Intragovernmental Holdings  \\\n",
       "0  2021-09-27             2.225634e+13                6.170790e+12   \n",
       "1  2021-09-24             2.225856e+13                6.168603e+12   \n",
       "\n",
       "   Total Public Debt Outstanding  Source Line Number  Fiscal Year  \\\n",
       "0                   2.842713e+13                   1         2021   \n",
       "1                   2.842716e+13                   1         2021   \n",
       "\n",
       "   Fiscal Quarter Number  Calendar Year  Calendar Quarter Number  \\\n",
       "0                      4           2021                        3   \n",
       "1                      4           2021                        3   \n",
       "\n",
       "   Calendar Month Number  Calendar Day Number  \n",
       "0                      9                   27  \n",
       "1                      9                   24  "
      ]
     },
     "execution_count": 3,
     "metadata": {},
     "output_type": "execute_result"
    }
   ],
   "source": [
    "us_debt_data.head(2)"
   ]
  },
  {
   "cell_type": "code",
   "execution_count": 4,
   "metadata": {},
   "outputs": [
    {
     "name": "stdout",
     "output_type": "stream",
     "text": [
      "<class 'pandas.core.frame.DataFrame'>\n",
      "RangeIndex: 7148 entries, 0 to 7147\n",
      "Data columns (total 11 columns):\n",
      " #   Column                         Non-Null Count  Dtype  \n",
      "---  ------                         --------------  -----  \n",
      " 0   Record Date                    7148 non-null   object \n",
      " 1   Debt Held by the Public        4190 non-null   float64\n",
      " 2   Intragovernmental Holdings     4190 non-null   float64\n",
      " 3   Total Public Debt Outstanding  7148 non-null   float64\n",
      " 4   Source Line Number             7148 non-null   int64  \n",
      " 5   Fiscal Year                    7148 non-null   int64  \n",
      " 6   Fiscal Quarter Number          7148 non-null   int64  \n",
      " 7   Calendar Year                  7148 non-null   int64  \n",
      " 8   Calendar Quarter Number        7148 non-null   int64  \n",
      " 9   Calendar Month Number          7148 non-null   int64  \n",
      " 10  Calendar Day Number            7148 non-null   int64  \n",
      "dtypes: float64(3), int64(7), object(1)\n",
      "memory usage: 614.4+ KB\n"
     ]
    }
   ],
   "source": [
    "us_debt_data.info()"
   ]
  },
  {
   "cell_type": "markdown",
   "metadata": {},
   "source": [
    "### Commodities"
   ]
  },
  {
   "cell_type": "code",
   "execution_count": 5,
   "metadata": {},
   "outputs": [],
   "source": [
    "# Tratar arquivos de commodities\n",
    "commodity_data = pd.DataFrame()\n",
    "from paths import path_com\n",
    "\n",
    "# Juntar todos os csvs num único arquivo e identificar os dados\n",
    "for folder in os.listdir(path_com):\n",
    "    for file in os.listdir(path_com + \"\\\\\" + folder):\n",
    "        data = pd.read_csv(path_com + \"\\\\\" +  folder + \"\\\\\" + file)\n",
    "        data[\"commodity_name\"] = str(file).rstrip(\".csv\")\n",
    "        data[\"commodity_type\"] = str(folder)\n",
    "        commodity_data = pd.concat([commodity_data, data])"
   ]
  },
  {
   "cell_type": "code",
   "execution_count": 6,
   "metadata": {},
   "outputs": [
    {
     "name": "stdout",
     "output_type": "stream",
     "text": [
      "<class 'pandas.core.frame.DataFrame'>\n",
      "Int64Index: 68464 entries, 0 to 2557\n",
      "Data columns (total 8 columns):\n",
      " #   Column          Non-Null Count  Dtype  \n",
      "---  ------          --------------  -----  \n",
      " 0   Date            68464 non-null  object \n",
      " 1   Close/Last      68464 non-null  float64\n",
      " 2   Volume          56613 non-null  float64\n",
      " 3   Open            68464 non-null  float64\n",
      " 4   High            68464 non-null  float64\n",
      " 5   Low             68464 non-null  float64\n",
      " 6   commodity_name  68464 non-null  object \n",
      " 7   commodity_type  68464 non-null  object \n",
      "dtypes: float64(5), object(3)\n",
      "memory usage: 15.9 MB\n"
     ]
    }
   ],
   "source": [
    "commodity_data.info(memory_usage='deep')"
   ]
  },
  {
   "cell_type": "code",
   "execution_count": 7,
   "metadata": {},
   "outputs": [
    {
     "data": {
      "text/plain": [
       "2566"
      ]
     },
     "execution_count": 7,
     "metadata": {},
     "output_type": "execute_result"
    }
   ],
   "source": [
    "len(commodity_data.Date.unique())"
   ]
  },
  {
   "cell_type": "code",
   "execution_count": 8,
   "metadata": {},
   "outputs": [
    {
     "data": {
      "text/html": [
       "<div>\n",
       "<style scoped>\n",
       "    .dataframe tbody tr th:only-of-type {\n",
       "        vertical-align: middle;\n",
       "    }\n",
       "\n",
       "    .dataframe tbody tr th {\n",
       "        vertical-align: top;\n",
       "    }\n",
       "\n",
       "    .dataframe thead th {\n",
       "        text-align: right;\n",
       "    }\n",
       "</style>\n",
       "<table border=\"1\" class=\"dataframe\">\n",
       "  <thead>\n",
       "    <tr style=\"text-align: right;\">\n",
       "      <th></th>\n",
       "      <th>Date</th>\n",
       "      <th>Close/Last</th>\n",
       "      <th>Volume</th>\n",
       "      <th>Open</th>\n",
       "      <th>High</th>\n",
       "      <th>Low</th>\n",
       "      <th>commodity_name</th>\n",
       "      <th>commodity_type</th>\n",
       "    </tr>\n",
       "  </thead>\n",
       "  <tbody>\n",
       "    <tr>\n",
       "      <th>0</th>\n",
       "      <td>09/10/2021</td>\n",
       "      <td>72.92</td>\n",
       "      <td>25447.0</td>\n",
       "      <td>71.31</td>\n",
       "      <td>73.14</td>\n",
       "      <td>70.96</td>\n",
       "      <td>brent_crude</td>\n",
       "      <td>energy</td>\n",
       "    </tr>\n",
       "    <tr>\n",
       "      <th>1</th>\n",
       "      <td>09/09/2021</td>\n",
       "      <td>71.45</td>\n",
       "      <td>34814.0</td>\n",
       "      <td>72.62</td>\n",
       "      <td>73.19</td>\n",
       "      <td>70.89</td>\n",
       "      <td>brent_crude</td>\n",
       "      <td>energy</td>\n",
       "    </tr>\n",
       "    <tr>\n",
       "      <th>2</th>\n",
       "      <td>09/08/2021</td>\n",
       "      <td>72.60</td>\n",
       "      <td>30818.0</td>\n",
       "      <td>71.58</td>\n",
       "      <td>72.95</td>\n",
       "      <td>71.56</td>\n",
       "      <td>brent_crude</td>\n",
       "      <td>energy</td>\n",
       "    </tr>\n",
       "    <tr>\n",
       "      <th>3</th>\n",
       "      <td>09/07/2021</td>\n",
       "      <td>71.69</td>\n",
       "      <td>34342.0</td>\n",
       "      <td>72.69</td>\n",
       "      <td>72.77</td>\n",
       "      <td>71.10</td>\n",
       "      <td>brent_crude</td>\n",
       "      <td>energy</td>\n",
       "    </tr>\n",
       "  </tbody>\n",
       "</table>\n",
       "</div>"
      ],
      "text/plain": [
       "         Date  Close/Last   Volume   Open   High    Low commodity_name  \\\n",
       "0  09/10/2021       72.92  25447.0  71.31  73.14  70.96    brent_crude   \n",
       "1  09/09/2021       71.45  34814.0  72.62  73.19  70.89    brent_crude   \n",
       "2  09/08/2021       72.60  30818.0  71.58  72.95  71.56    brent_crude   \n",
       "3  09/07/2021       71.69  34342.0  72.69  72.77  71.10    brent_crude   \n",
       "\n",
       "  commodity_type  \n",
       "0         energy  \n",
       "1         energy  \n",
       "2         energy  \n",
       "3         energy  "
      ]
     },
     "execution_count": 8,
     "metadata": {},
     "output_type": "execute_result"
    }
   ],
   "source": [
    "commodity_data.head(4)"
   ]
  },
  {
   "cell_type": "code",
   "execution_count": 9,
   "metadata": {},
   "outputs": [],
   "source": [
    "commodity_data[\"Date\"] = pd.to_datetime(commodity_data['Date'])"
   ]
  },
  {
   "cell_type": "code",
   "execution_count": 10,
   "metadata": {},
   "outputs": [],
   "source": [
    "commodity_data.to_csv('commodity_data_complied.csv')"
   ]
  }
 ],
 "metadata": {
  "interpreter": {
   "hash": "af822c890ad7386829fe2805748738e9413fa31e14ce154340cf62a504cf8f66"
  },
  "kernelspec": {
   "display_name": "Python 3.9.5 64-bit",
   "name": "python3"
  },
  "language_info": {
   "codemirror_mode": {
    "name": "ipython",
    "version": 3
   },
   "file_extension": ".py",
   "mimetype": "text/x-python",
   "name": "python",
   "nbconvert_exporter": "python",
   "pygments_lexer": "ipython3",
   "version": "3.9.5"
  },
  "orig_nbformat": 4
 },
 "nbformat": 4,
 "nbformat_minor": 2
}
